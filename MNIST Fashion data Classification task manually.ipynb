{
 "cells": [
  {
   "cell_type": "markdown",
   "metadata": {},
   "source": [
    "# MNIST Fashion dataset Classification Task\n",
    "\n",
    "## The models below will be built from scratch without using external libraries (ie sklearn, tensor flow, keras etc)"
   ]
  },
  {
   "cell_type": "markdown",
   "metadata": {},
   "source": [
    "Nicholas Stollmann\n"
   ]
  },
  {
   "cell_type": "markdown",
   "metadata": {
    "nbpresent": {
     "id": "375753da-1c6c-4b02-986a-6e3b185a5869"
    }
   },
   "source": [
    "The goal of this report is to build a classifier to classify some grayscale images of the size 28x28 into a set of categories. The dataset is made up of 30,000 training examples corresponding to 10 different items of clothing. There are also 5,000 examples to use as a test set. <br>\n",
    "\n",
    "Whilst the code used for the tuning of the models has been included it has been commented out so that the file runs quicker."
   ]
  },
  {
   "cell_type": "markdown",
   "metadata": {},
   "source": [
    "<img src=\"Dataset_image.jpg\" alt=\"DataSet\" title=\"DataSet\" width=\"450\" height=\"300\" />"
   ]
  },
  {
   "cell_type": "markdown",
   "metadata": {},
   "source": [
    "There are 10 classes in total:<br />\n",
    "0 T-shirt/Top<br />\n",
    "1 Trouser<br />\n",
    "2 Pullover<br />\n",
    "3 Dress<br />\n",
    "4 Coat<br />\n",
    "5 Sandal<br />\n",
    "6 Shirt<br />\n",
    "7 Sneaker<br />\n",
    "8 Bag<br />\n",
    "9 Ankle boot <br />"
   ]
  },
  {
   "cell_type": "code",
   "execution_count": 1,
   "metadata": {},
   "outputs": [
    {
     "name": "stdout",
     "output_type": "stream",
     "text": [
      "['images_training.h5', 'labels_training.h5']\n"
     ]
    }
   ],
   "source": [
    "from math import sqrt,pi,exp\n",
    "import numpy as np\n",
    "import h5py\n",
    "import os\n",
    "import matplotlib.pyplot as plt\n",
    "from matplotlib import figure\n",
    "import random\n",
    "import time as tm\n",
    "import pandas as pd\n",
    "print(os.listdir(\"./Input/train\"))"
   ]
  },
  {
   "cell_type": "code",
   "execution_count": 2,
   "metadata": {},
   "outputs": [
    {
     "name": "stdout",
     "output_type": "stream",
     "text": [
      "(30000, 784) (30000,)\n",
      "(5000, 784) (2000,)\n"
     ]
    }
   ],
   "source": [
    "with h5py.File('./Input/train/images_training.h5','r') as H:\n",
    "    data_train = np.copy(H['datatrain'])\n",
    "with h5py.File('./Input/train/labels_training.h5','r') as H:\n",
    "    label_train = np.copy(H['labeltrain'])\n",
    "\n",
    "with h5py.File('./Input/test/images_testing.h5','r') as H:\n",
    "    data_test = np.copy(H['datatest'])\n",
    "with h5py.File('./Input/test/labels_testing_2000.h5','r') as H:\n",
    "    label_test = np.copy(H['labeltest'])\n",
    "# using H['datatest'], H['labeltest'] for test dataset.\n",
    "print(data_train.shape,label_train.shape)\n",
    "\n",
    "print(data_test.shape,label_test.shape)"
   ]
  },
  {
   "cell_type": "markdown",
   "metadata": {},
   "source": [
    "Showing a sample data. The first example belongs to class 0: T-Shirt/Top"
   ]
  },
  {
   "cell_type": "code",
   "execution_count": 81,
   "metadata": {},
   "outputs": [
    {
     "data": {
      "image/png": "[encoded data removed]",
      "text/plain": [
       "<Figure size 432x288 with 1 Axes>"
      ]
     },
     "metadata": {
      "needs_background": "light"
     },
     "output_type": "display_data"
    }
   ],
   "source": [
    "import matplotlib.pyplot as plt\n",
    "data_train = data_train.reshape((data_train.shape[0], 28, 28))\n",
    "plt.imshow(data_train[0], cmap=plt.get_cmap('gray'))\n",
    "plt.title(\"class \" + str(label_train[0]) + \": T-shirt/Top\" )\n",
    "plt.show()"
   ]
  },
  {
   "cell_type": "code",
   "execution_count": 82,
   "metadata": {},
   "outputs": [],
   "source": [
    "#Run this is if you ran the cell above as it reshapes the data for graphing purposes.\n",
    "\n",
    "data_train = data_train.reshape((data_train.shape[0], 784)) #Make data back into 30000 x 784\n"
   ]
  },
  {
   "cell_type": "markdown",
   "metadata": {},
   "source": [
    "### Once the KNN class cell has been run, run this cell below to get the output from the K-nn classifier:"
   ]
  },
  {
   "cell_type": "code",
   "execution_count": 83,
   "metadata": {},
   "outputs": [
    {
     "name": "stdout",
     "output_type": "stream",
     "text": [
      "--- 132.00 seconds ---\n"
     ]
    }
   ],
   "source": [
    "start_time = tm.time() #Function to time the runtime of cell\n",
    "\n",
    "# The default parameters are the optimal parameters for the class.\n",
    "knn_classifier = Knn()\n",
    "knn_classifier.train(data_train,label_train)\n",
    "test_predictions = knn_classifier.predict(data_test)\n",
    "\n",
    "print(\"--- {:.2f} seconds ---\".format(tm.time() - start_time))\n"
   ]
  },
  {
   "cell_type": "markdown",
   "metadata": {},
   "source": [
    "Use the cell below if you want to export the predictions of the 5000 test examples."
   ]
  },
  {
   "cell_type": "code",
   "execution_count": 84,
   "metadata": {},
   "outputs": [],
   "source": [
    "# assume output is the predicted labels\n",
    "# (5000,) \n",
    "\n",
    "#with h5py.File('./Output/predicted_labels.h5','w') as H:\n",
    "#    H.create_dataset(\"Output\",data=test_predictions)\n",
    "    "
   ]
  },
  {
   "cell_type": "markdown",
   "metadata": {},
   "source": [
    "### PCA to graph variance explained for each pca value <br>\n",
    "- Principal Components analysis must be done on the standardised data so that is done first."
   ]
  },
  {
   "cell_type": "code",
   "execution_count": 85,
   "metadata": {},
   "outputs": [
    {
     "data": {
      "image/png": "[encoded data removed]",
      "text/plain": [
       "<Figure size 720x720 with 1 Axes>"
      ]
     },
     "metadata": {
      "needs_background": "light"
     },
     "output_type": "display_data"
    }
   ],
   "source": [
    "#This PCA was not used for the classifiers as the pca is done within each classifier. It is however done the same way.\n",
    "from matplotlib import figure\n",
    "\n",
    "\n",
    "standardized_train = (data_train - np.mean(data_train, axis=0)) / np.std(data_train, axis=0) #standardize the table\n",
    "cov_data_train = np.cov(standardized_train.T)\n",
    "e_values, e_vectors = np.linalg.eig(cov_data_train)\n",
    "\n",
    "\n",
    "number_of_pca = 200\n",
    "explained_variances = []\n",
    "for i in range(len(e_values)):\n",
    "    explained_variances.append(e_values[i] / np.sum(e_values))\n",
    " \n",
    "plt.figure(figsize = (10,10))\n",
    "plt.bar(range(number_of_pca),explained_variances[:number_of_pca] )\n",
    "plt.xlabel(\"Number of PCA\")\n",
    "plt.ylabel(\"Variance explained\")\n",
    "plt.title(\"PCAs vs variance explained\")\n",
    "plt.show()"
   ]
  },
  {
   "cell_type": "markdown",
   "metadata": {},
   "source": [
    "## Separating Data into validation/training set"
   ]
  },
  {
   "cell_type": "markdown",
   "metadata": {},
   "source": [
    "This is done for the model training"
   ]
  },
  {
   "cell_type": "code",
   "execution_count": 6,
   "metadata": {},
   "outputs": [
    {
     "name": "stdout",
     "output_type": "stream",
     "text": [
      "(30000,)\n",
      "(24000, 784) (6000, 784) (24000,) (6000,)\n"
     ]
    }
   ],
   "source": [
    "np.random.seed(1000)\n",
    "\n",
    "print(label_train.shape)\n",
    "\n",
    "index = np.random.permutation(len(data_train)) ## Random indices in the length of training_data\n",
    "training_id, valid_id = index[:int(0.8 * len(data_train))],index[int(0.8 * len(data_train)):] #Split 80-20 index for train/val\n",
    "\n",
    "training_set, validation_set = data_train[training_id,:], data_train[valid_id,:]\n",
    "training_labels, validation_labels = label_train[training_id], label_train[valid_id]\n",
    "\n",
    "print(training_set.shape,validation_set.shape,training_labels.shape,validation_labels.shape)\n",
    "\n",
    "#This set was created to see how the classifiers perform\n",
    "test_set = data_test[0:2000,:]\n",
    "test_labels = label_test\n"
   ]
  },
  {
   "cell_type": "markdown",
   "metadata": {},
   "source": [
    "## Knn Classifier\n"
   ]
  },
  {
   "cell_type": "markdown",
   "metadata": {},
   "source": [
    "# Run the below cell before running the output cell "
   ]
  },
  {
   "cell_type": "code",
   "execution_count": 39,
   "metadata": {},
   "outputs": [],
   "source": [
    "class Knn: \n",
    "    \n",
    "    def __init__(self, k = 5,num_pca = 152, distance_measure = \"Manhattan\"):\n",
    "        self.k = k\n",
    "        self.num_pca = num_pca\n",
    "        self.distance_measure = distance_measure\n",
    "\n",
    "    \n",
    "    def calc_knn_weighted(self,X, y, K, X_q):\n",
    "        if self.distance_measure == \"Euclidean\":\n",
    "            dis = ((X - X_q)**2).sum(axis=1) #calculate distance between X_q and each training point\n",
    "        else:\n",
    "            dis = (abs(X - X_q)).sum(axis=1)\n",
    "            \n",
    "        weighted_dis = 1/(dis) #Calculate the weighted distance to make the closer points more impactful\n",
    "    \n",
    "        weighted_desc = np.argsort(weighted_dis)[::-1] #Sort the results by index in descending order since weighted distance is 1/distance\n",
    "    \n",
    "        classes = np.zeros(10)\n",
    "        weightings = weighted_desc[:K] #Relevant weighting indexes for this k value\n",
    "    \n",
    "        for i in range(K):\n",
    "        \n",
    "            if y[weightings[i]]==0: #class = 0\n",
    "                classes[0] += weighted_dis[weightings[i]] #add the weighted distance to each class_values total\n",
    "            elif y[weightings[i]]==1: #class = 1\n",
    "                classes[1] += weighted_dis[weightings[i]]\n",
    "            elif y[weightings[i]]==2: #class = 2\n",
    "                classes[2] += weighted_dis[weightings[i]]\n",
    "            elif y[weightings[i]]==3: #class = 3\n",
    "                classes[3] += weighted_dis[weightings[i]]\n",
    "            elif y[weightings[i]]==4: #class = 4\n",
    "                classes[4] += weighted_dis[weightings[i]]\n",
    "            elif y[weightings[i]]==5: #class = 5\n",
    "                classes[5] += weighted_dis[weightings[i]]\n",
    "            elif y[weightings[i]]==6: #class = 6\n",
    "                classes[6] += weighted_dis[weightings[i]]\n",
    "            elif y[weightings[i]]==7: #class = 7\n",
    "                classes[7] += weighted_dis[weightings[i]]\n",
    "            elif y[weightings[i]]==8: #class = 8\n",
    "                classes[8] += weighted_dis[weightings[i]]\n",
    "            elif y[weightings[i]]==9: #class = 9\n",
    "                classes[9] += weighted_dis[weightings[i]]\n",
    "            else:\n",
    "                print('Error - Invalid class')\n",
    "            \n",
    "        return np.argmax(classes)\n",
    "    \n",
    "    \n",
    "    def train(self,training_data, training_labels):\n",
    "        \n",
    "        \n",
    "        self.initial_training_data = training_data\n",
    "        self.training_labels = training_labels\n",
    "        \n",
    "        self.training_data_standardized = (self.initial_training_data -\n",
    "                                           np.mean(self.initial_training_data, axis=0)) / np.std(self.initial_training_data, axis=0)\n",
    "        #Standardizing the matrix\n",
    "        \n",
    "        self.training_cov = np.cov(self.training_data_standardized.T)#taking covariance matrix of standardized training data\n",
    "        \n",
    "        self.e_values, self.e_vectors = np.linalg.eig(self.training_cov)#taking eigenvalues/eigenvectors\n",
    "        \n",
    "        self.proj = self.e_vectors[:,0:self.num_pca] #selecting the number of PCA components to keep (projection matrix)\n",
    "        \n",
    "        self.training_data = np.array(np.dot(self.training_data_standardized,self.proj))\n",
    "\n",
    "\n",
    "    \n",
    "    def predict(self,test_set):\n",
    "        self.initial_test_set = test_set\n",
    "        self.test_data_standardized = (self.initial_test_set -\n",
    "                                       np.mean(self.initial_training_data, axis=0)) / np.std(self.initial_training_data, axis=0)\n",
    "        #Standardizing test set using the mean/std of the training set.\n",
    "        \n",
    "        self.test_data = np.array(np.dot(self.test_data_standardized,self.proj)) #Test data with PCA applied\n",
    "        \n",
    "        self.predictions = []\n",
    "        for i in self.test_data:\n",
    "            #self.predictions.append(self.calc_knn(self.training_data,self.training_labels,self.k,i))\n",
    "            self.predictions.append(self.calc_knn_weighted(self.training_data,self.training_labels,self.k,i))\n",
    "        return self.predictions\n",
    "\n",
    "    \n",
    "    def accuracy_check(self,test_labels):\n",
    "        self.test_labels = test_labels\n",
    "        \n",
    "        correct_test = 0\n",
    "        incorrect_test = 0\n",
    "        \n",
    "        for i in range(len(self.test_labels)):\n",
    "            if self.predictions[i]==self.test_labels[i]:\n",
    "                correct_test += 1\n",
    "            else:\n",
    "                incorrect_test += 1\n",
    "                \n",
    "        return (correct_test/(correct_test+incorrect_test))*100\n",
    "        \n",
    "        \n"
   ]
  },
  {
   "cell_type": "markdown",
   "metadata": {},
   "source": [
    "### Hypertuning Parameters using the validation set"
   ]
  },
  {
   "cell_type": "markdown",
   "metadata": {},
   "source": [
    "Hypertuning section to find best k-value (code is commented out for submission as it runs very slowly)"
   ]
  },
  {
   "cell_type": "code",
   "execution_count": 88,
   "metadata": {},
   "outputs": [],
   "source": [
    "#accuracies_for_k = []\n",
    "\n",
    "#for i in range(15):\n",
    "#    classifier = Knn(k = i)\n",
    "#    classifier.train(training_set,training_labels)\n",
    "#    validation_predictions = classifier.predict(validation_set)\n",
    "#    accuracies_for_k.append(classifier.accuracy_check(validation_labels))"
   ]
  },
  {
   "cell_type": "code",
   "execution_count": 89,
   "metadata": {},
   "outputs": [
    {
     "data": {
      "image/png": "[encoded data removed]",
      "text/plain": [
       "<Figure size 432x288 with 1 Axes>"
      ]
     },
     "metadata": {
      "needs_background": "light"
     },
     "output_type": "display_data"
    }
   ],
   "source": [
    "#plt.plot(range(15), accuracies_for_k)\n",
    "#plt.title(\"Validation accuracies for different k values\")\n",
    "#plt.xlabel(\"k values\")\n",
    "#plt.ylabel(\"Accuracy\")\n",
    "#plt.show()"
   ]
  },
  {
   "cell_type": "markdown",
   "metadata": {},
   "source": [
    "Will use a k-value of 5 for future models"
   ]
  },
  {
   "cell_type": "markdown",
   "metadata": {},
   "source": [
    "Testing different numbers of PCAs for the model (code is commented out as it runs very slowly)"
   ]
  },
  {
   "cell_type": "code",
   "execution_count": 36,
   "metadata": {},
   "outputs": [
    {
     "name": "stdout",
     "output_type": "stream",
     "text": [
      "[2, 52, 102, 152, 202, 252, 302, 352, 402, 452]\n",
      "[48.483333333333334, 85.39999999999999, 85.66666666666667, 85.88333333333334, 85.83333333333333, 85.58333333333333, 85.1, 84.66666666666667, 84.35000000000001, 84.01666666666667]\n"
     ]
    }
   ],
   "source": [
    "#val_accuracies = []\n",
    "\n",
    "#for i in range(2,500,50):\n",
    "#    temp_classifier = Knn(k = 5, num_pca = i)\n",
    "#    temp_classifier.train(training_set,training_labels)\n",
    "#    temp_classifier.predict(validation_set)\n",
    "#    val_accuracies.append(temp_classifier.accuracy_check(validation_labels))\n",
    "\n",
    "#print([i for i in range(2,500,50)])\n",
    "#print(val_accuracies)"
   ]
  },
  {
   "cell_type": "code",
   "execution_count": 37,
   "metadata": {},
   "outputs": [
    {
     "data": {
      "image/png": "[encoded data removed]",
      "text/plain": [
       "<Figure size 432x288 with 1 Axes>"
      ]
     },
     "metadata": {
      "needs_background": "light"
     },
     "output_type": "display_data"
    }
   ],
   "source": [
    "#pca_values = [i for i in range(2,500,50)]\n",
    "\n",
    "#plt.plot(pca_values, val_accuracies)\n",
    "#plt.title(\"Validation  accuracies for different pca values\")\n",
    "#plt.xlabel(\"pca values\")\n",
    "#plt.ylabel(\"Accuracy\")\n",
    "#plt.show()"
   ]
  },
  {
   "cell_type": "code",
   "execution_count": 38,
   "metadata": {},
   "outputs": [
    {
     "name": "stdout",
     "output_type": "stream",
     "text": [
      "The highest accuracy from the model is 85.88%.\n",
      "This value is given by the pca_value of 152.\n"
     ]
    }
   ],
   "source": [
    "#highest_accuracy_val = max(val_accuracies)\n",
    "\n",
    "#pca_value = pca_values[val_accuracies.index(max(val_accuracies))]\n",
    "\n",
    "#print(\"The highest accuracy from the model is {:.2f}%.\".format(highest_accuracy_val))\n",
    "#print(\"This value is given by the pca_value of {}.\".format(pca_value))"
   ]
  },
  {
   "cell_type": "markdown",
   "metadata": {},
   "source": [
    "Testing 2 different distance metrics, Euclidean or Manhattan distance"
   ]
  },
  {
   "cell_type": "code",
   "execution_count": 101,
   "metadata": {},
   "outputs": [
    {
     "name": "stdout",
     "output_type": "stream",
     "text": [
      "Using Manhattan distance on the validation set gives an accuracy of 85.88%.\n"
     ]
    }
   ],
   "source": [
    "classifier_manhattan = Knn(distance_measure = \"Manhattan\")\n",
    "classifier_manhattan.train(training_set,training_labels)\n",
    "validation_predictions_man = classifier_manhattan.predict(validation_set)\n",
    "validation_accuracy_man = classifier_manhattan.accuracy_check(validation_labels)\n",
    "\n",
    "print(\"Using Manhattan distance on the validation set gives an accuracy of {:.2f}%.\".format(validation_accuracy_man))\n"
   ]
  },
  {
   "cell_type": "code",
   "execution_count": 105,
   "metadata": {},
   "outputs": [
    {
     "name": "stdout",
     "output_type": "stream",
     "text": [
      "Using Euclidean distance on the validation set gives an accuracy of 85.78%.\n"
     ]
    }
   ],
   "source": [
    "classifier_euclidean = Knn(distance_measure = \"Euclidean\")\n",
    "classifier_euclidean.train(training_set,training_labels)\n",
    "validation_predictions_euc = classifier_euclidean.predict(validation_set)\n",
    "validation_accuracy_euc = classifier_euclidean.accuracy_check(validation_labels)\n",
    "\n",
    "print(\"Using Euclidean distance on the validation set gives an accuracy of {:.2f}%.\".format(validation_accuracy_euc))\n"
   ]
  },
  {
   "cell_type": "code",
   "execution_count": 106,
   "metadata": {},
   "outputs": [
    {
     "name": "stdout",
     "output_type": "stream",
     "text": [
      "Using Manhattan distance on the test set gives an accuracy of 83.60%.\n"
     ]
    }
   ],
   "source": [
    "test_predictions = classifier_manhattan.predict(test_set)\n",
    "test_accuracy_man = classifier_manhattan.accuracy_check(test_labels)\n",
    "\n",
    "print(\"Using Manhattan distance on the test set gives an accuracy of {:.2f}%.\".format(test_accuracy_man))\n"
   ]
  },
  {
   "cell_type": "code",
   "execution_count": 107,
   "metadata": {},
   "outputs": [
    {
     "name": "stdout",
     "output_type": "stream",
     "text": [
      "Using Euclidean distance on the test set gives an accuracy of 83.45%.\n"
     ]
    }
   ],
   "source": [
    "test_predictions = classifier_euclidean.predict(test_set)\n",
    "test_accuracy_euc = classifier_euclidean.accuracy_check(test_labels)\n",
    "\n",
    "print(\"Using Euclidean distance on the test set gives an accuracy of {:.2f}%.\".format(test_accuracy_euc))\n"
   ]
  },
  {
   "cell_type": "code",
   "execution_count": 108,
   "metadata": {},
   "outputs": [
    {
     "data": {
      "text/html": [
       "<div>\n",
       "<style scoped>\n",
       "    .dataframe tbody tr th:only-of-type {\n",
       "        vertical-align: middle;\n",
       "    }\n",
       "\n",
       "    .dataframe tbody tr th {\n",
       "        vertical-align: top;\n",
       "    }\n",
       "\n",
       "    .dataframe thead th {\n",
       "        text-align: right;\n",
       "    }\n",
       "</style>\n",
       "<table border=\"1\" class=\"dataframe\">\n",
       "  <thead>\n",
       "    <tr style=\"text-align: right;\">\n",
       "      <th></th>\n",
       "      <th>Distance Type</th>\n",
       "      <th>Validation Accuracy</th>\n",
       "      <th>Test Accuracy</th>\n",
       "    </tr>\n",
       "  </thead>\n",
       "  <tbody>\n",
       "    <tr>\n",
       "      <th>0</th>\n",
       "      <td>Euclidean</td>\n",
       "      <td>85.783333</td>\n",
       "      <td>83.45</td>\n",
       "    </tr>\n",
       "    <tr>\n",
       "      <th>1</th>\n",
       "      <td>Manhattan</td>\n",
       "      <td>85.883333</td>\n",
       "      <td>83.60</td>\n",
       "    </tr>\n",
       "  </tbody>\n",
       "</table>\n",
       "</div>"
      ],
      "text/plain": [
       "  Distance Type  Validation Accuracy  Test Accuracy\n",
       "0     Euclidean            85.783333          83.45\n",
       "1     Manhattan            85.883333          83.60"
      ]
     },
     "execution_count": 108,
     "metadata": {},
     "output_type": "execute_result"
    }
   ],
   "source": [
    "distance_diff = {\"Distance Type\" : [\"Euclidean\", \"Manhattan\"], \"Validation Accuracy\":[validation_accuracy_euc,validation_accuracy_man], \"Test Accuracy\":[test_accuracy_euc,test_accuracy_man]}\n",
    "Distance_comp = pd.DataFrame(data = distance_diff)\n",
    "Distance_comp"
   ]
  },
  {
   "cell_type": "markdown",
   "metadata": {},
   "source": [
    "#### Running model with best parameters on validation set and test set"
   ]
  },
  {
   "cell_type": "markdown",
   "metadata": {},
   "source": [
    "Best paramaters:\n",
    "k-value : 5\n",
    "pca number : 152\n",
    "Distance Measure : Manhattan"
   ]
  },
  {
   "cell_type": "markdown",
   "metadata": {},
   "source": [
    "Validation set:"
   ]
  },
  {
   "cell_type": "code",
   "execution_count": 35,
   "metadata": {},
   "outputs": [
    {
     "name": "stdout",
     "output_type": "stream",
     "text": [
      "The accuracy of the results on the validation set is: 85.67%.\n"
     ]
    }
   ],
   "source": [
    "start_time = tm.time()\n",
    "\n",
    "\n",
    "classifier_knn = Knn()\n",
    "classifier_knn.train(training_set,training_labels)\n",
    "validation_predictions = classifier_knn.predict(validation_set)\n",
    "validation_accuracy = classifier_knn.accuracy_check(validation_labels)\n",
    "\n",
    "knn_time_val = tm.time() - start_time\n",
    "\n",
    "print(\"The accuracy of the results on the validation set is: {:.2f}%.\".format(validation_accuracy))"
   ]
  },
  {
   "cell_type": "markdown",
   "metadata": {},
   "source": [
    "Test set (2,000 test data as we have 2,000 labels):"
   ]
  },
  {
   "cell_type": "code",
   "execution_count": 20,
   "metadata": {},
   "outputs": [
    {
     "name": "stdout",
     "output_type": "stream",
     "text": [
      "The accuracy of the results on the test set is: 83.60%.\n"
     ]
    }
   ],
   "source": [
    "classifier_knn = Knn()\n",
    "classifier_knn.train(training_set,training_labels)\n",
    "test_predictions = classifier_knn.predict(test_set)\n",
    "test_accuracy = classifier_knn.accuracy_check(test_labels)\n",
    "\n",
    "print(\"The accuracy of the results on the test set is: {:.2f}%.\".format(test_accuracy))"
   ]
  },
  {
   "cell_type": "markdown",
   "metadata": {},
   "source": [
    "### Running Knn classifier on total test set (for timing)"
   ]
  },
  {
   "cell_type": "code",
   "execution_count": 18,
   "metadata": {},
   "outputs": [],
   "source": [
    "start_time = tm.time()\n",
    "\n",
    "classifier_knn = Knn()\n",
    "classifier_knn.train(training_set,training_labels)\n",
    "test_predictions = classifier_knn.predict(data_test)\n",
    "#test_accuracy = classifier_knn.accuracy_check(test_labels) # Cannot calculate accuracy since we do not have 5,000 labels\n",
    "\n",
    "knn_time_test = tm.time() - start_time\n"
   ]
  },
  {
   "cell_type": "markdown",
   "metadata": {},
   "source": [
    "## Naive Bayes Classifier"
   ]
  },
  {
   "cell_type": "code",
   "execution_count": 1,
   "metadata": {},
   "outputs": [],
   "source": [
    "class NB():\n",
    "    \n",
    "    \n",
    "    def __init__(self,num_pca = 40):\n",
    "        self.num_pca = num_pca\n",
    "    \n",
    "    \n",
    "    def train(self,training_data, training_labels):\n",
    "        \n",
    "        self.n = len(training_data) #Number of rows\n",
    "        \n",
    "        \n",
    "        self.initial_training_data = training_data\n",
    "        self.training_labels = training_labels\n",
    "        \n",
    "        self.training_data_standardized = (self.initial_training_data\n",
    "                                           - np.mean(self.initial_training_data, axis=0)) / np.std(self.initial_training_data, axis=0)\n",
    "        #Standardizing the matrix\n",
    "        \n",
    "        self.training_cov = np.cov(self.training_data_standardized.T)#taking covariance matrix of standardized training data\n",
    "        \n",
    "        self.e_values, self.e_vectors = np.linalg.eig(self.training_cov)#taking eigenvalues/eigenvectors\n",
    "        \n",
    "        self.proj = self.e_vectors[:,0:self.num_pca] #selecting the number of PCA components to keep (projection matrix)\n",
    "        \n",
    "        self.training_data = np.array(np.dot(self.training_data_standardized,self.proj))\n",
    "    \n",
    "    def class_mean_stdev(self,input_data,labels):\n",
    "        self.sep_classes = {} #Make a dictionary with all the rows for each class groupped by class\n",
    "        for i in range(len(input_data)):\n",
    "            row = input_data[i]\n",
    "            class_val = labels[i]\n",
    "            if (class_val not in self.sep_classes):\n",
    "                self.sep_classes[class_val] = []\n",
    "            self.sep_classes[class_val].append(row)\n",
    "        \n",
    "        self.summaries = {}\n",
    "        for class_value, rows in self.sep_classes.items(): #Find the mean/std/length for each class\n",
    "            self.summaries[class_value] = self.calc_class_data(rows)\n",
    "        return self.summaries\n",
    "\n",
    "    \n",
    "    def labels_pred(self,summaries, row): #Predict the highest probability label\n",
    "        probabilities = {}\n",
    "        for class_value, class_summaries in summaries.items():\n",
    "            probabilities[class_value] = summaries[class_value][0][2]/float(self.n) #Calculate the probability of each class\n",
    "            # Ie, the number of rows in each class divided by the total number of rows\n",
    "            for i in range(len(class_summaries)):\n",
    "                mean, stdev, count = class_summaries[i] \n",
    "                probabilities[class_value] *= self.gauss_probability(row[i], mean, stdev)\n",
    "                #self.probabilities[class_value] *= scipy.stats.norm(mean, stdev).pdf(row[i])\n",
    "                \n",
    "                #Find the probability of each row having the avg mean/stdev of the columns in the each class. Then multiply those probabilites\n",
    "                #to find the total probability of a row belonging to each class. (P(C\\X1)*P(C\\X2)...etc)\n",
    "\n",
    "        return max(probabilities, key = probabilities.get)\n",
    "    \n",
    "    \n",
    "    def predict(self,test_set): #Use this function to test the model on the test data\n",
    "        \n",
    "        self.initial_test_set = test_set\n",
    "        self.test_data_standardized = (self.initial_test_set -\n",
    "                                       np.mean(self.initial_training_data, axis=0)) / np.std(self.initial_training_data, axis=0)\n",
    "        #Standardizing test set using the mean/std of the training set.\n",
    "        \n",
    "        self.test_data = np.array(np.dot(self.test_data_standardized,self.proj)) #Test data with PCA applied\n",
    "        \n",
    "        summarize = self.class_mean_stdev(self.training_data,self.training_labels)\n",
    "        self.predictions = []\n",
    "        for i in range(len(self.test_data)):\n",
    "            output = self.labels_pred(summarize, self.test_data[i])\n",
    "            self.predictions.append(output)\n",
    "        return(self.predictions)\n",
    "    \n",
    "    def accuracy_check(self,test_labels): \n",
    "        #Use this function to check the accuracy of the model, the argument should the labels of the set you predicted with \n",
    "        \n",
    "        self.test_labels = test_labels\n",
    "        \n",
    "        correct_test = 0\n",
    "        incorrect_test = 0\n",
    "        \n",
    "        for i in range(len(self.test_labels)):\n",
    "            if self.predictions[i]==self.test_labels[i]:\n",
    "                correct_test += 1\n",
    "            else:\n",
    "                incorrect_test += 1\n",
    "                \n",
    "        return (correct_test/(correct_test+incorrect_test))*100\n",
    "    \n",
    "    def calc_class_data(self,input_data):\n",
    "        averages = [np.mean(i,axis = 0) for i in zip(*input_data)]\n",
    "        standard_dev = [np.std(i, axis = 0) for i in zip(*input_data)]\n",
    "        number_of_rows = [len(input_data) for i in zip(*input_data)]\n",
    "        mean_std_n = list(zip(averages,standard_dev,number_of_rows))\n",
    "        \n",
    "        #Find the mean, std and length of each column\n",
    "        return mean_std_n\n",
    "    \n",
    "    def gauss_probability(self, x, mean, stdev): #Find normal distribution probability for a given mean,x and stdev\n",
    "        #Defining this function manually saved a lot of time over using the scipy function\n",
    "        top = exp(-1/2*(((x - mean)/stdev)**2))\n",
    "        bot = stdev * (2*pi)**(0.5)\n",
    "        return top/bot\n",
    "    \n",
    "        "
   ]
  },
  {
   "cell_type": "markdown",
   "metadata": {},
   "source": [
    "Tuning the pca values for the NB classifier (code is commented out as it runs very slowly)"
   ]
  },
  {
   "cell_type": "code",
   "execution_count": 121,
   "metadata": {},
   "outputs": [
    {
     "name": "stdout",
     "output_type": "stream",
     "text": [
      "[68.86666666666666, 71.23333333333333, 71.28333333333333, 71.5, 71.1, 70.11666666666667, 69.86666666666666, 68.95, 68.15, 67.51666666666667, 66.64999999999999, 66.36666666666666, 65.81666666666666, 65.3, 64.81666666666666, 64.43333333333334, 63.78333333333334, 63.21666666666667, 62.983333333333334]\n"
     ]
    }
   ],
   "source": [
    "#pca_values = range(10,200,10)\n",
    "\n",
    "#accuracy_values = []\n",
    "\n",
    "#for i in pca_values:\n",
    "#    temp_classifier = NB(num_pca = i)\n",
    "#    temp_classifier.train(training_set,training_labels)\n",
    "#    temp_classifier.predict(validation_set)\n",
    "#    accuracy_values.append(temp_classifier.accuracy_check(validation_labels))\n",
    "    \n",
    "\n",
    "#print(accuracy_values)"
   ]
  },
  {
   "cell_type": "code",
   "execution_count": 122,
   "metadata": {},
   "outputs": [
    {
     "name": "stdout",
     "output_type": "stream",
     "text": [
      "The maximum accuracy (from the validation set) is 71.50%, and that is given by the pca number of: 40.\n"
     ]
    },
    {
     "data": {
      "image/png": "[encoded data removed]",
      "text/plain": [
       "<Figure size 432x288 with 1 Axes>"
      ]
     },
     "metadata": {
      "needs_background": "light"
     },
     "output_type": "display_data"
    }
   ],
   "source": [
    "#max_index = accuracy_values.index(max(accuracy_values))\n",
    "#max_accuracy = accuracy_values[max_index]\n",
    "#print(\"The maximum accuracy (from the validation set) is {:.2f}%, and that is given by the pca number of: {}.\".format(max_accuracy,pca_values[max_index]))\n",
    "\n",
    "\n",
    "#plt.plot(pca_values, accuracy_values)\n",
    "#plt.title(\"Validation accuracies for different pca values\")\n",
    "#plt.xlabel(\"pca values\")\n",
    "#plt.ylabel(\"Accuracy\")\n",
    "#plt.show()"
   ]
  },
  {
   "cell_type": "markdown",
   "metadata": {},
   "source": [
    "### Best model on validation set"
   ]
  },
  {
   "cell_type": "code",
   "execution_count": 22,
   "metadata": {},
   "outputs": [
    {
     "name": "stdout",
     "output_type": "stream",
     "text": [
      "The accuracy from the test set is 71.50%, and that is given by the pca number of: 40.\n"
     ]
    }
   ],
   "source": [
    "start_time = tm.time()\n",
    "\n",
    "nb_classifier = NB(num_pca = 40) #Train classifier with 40 Pcas\n",
    "nb_classifier.train(training_set,training_labels)\n",
    "nb_classifier.predict(validation_set)\n",
    "\n",
    "nb_classifier_validation_accuracy = nb_classifier.accuracy_check(validation_labels)\n",
    "#print(nb_classifier.accuracy_check(test_labels))\n",
    "print(\"The accuracy from the test set is {:.2f}%, and that is given by the pca number of: {}.\".format(nb_classifier.accuracy_check(validation_labels),40))    \n",
    "nb_time_val = tm.time() - start_time"
   ]
  },
  {
   "cell_type": "markdown",
   "metadata": {},
   "source": [
    "#### Running classifier with best pca on test data (2,000 test points)"
   ]
  },
  {
   "cell_type": "code",
   "execution_count": 25,
   "metadata": {},
   "outputs": [
    {
     "name": "stdout",
     "output_type": "stream",
     "text": [
      "The accuracy from the test set is 72.00%, and that is given by the pca number of: 40.\n"
     ]
    }
   ],
   "source": [
    "nb_classifier = NB(num_pca = 40) #Train classifier with 40 Pcas\n",
    "nb_classifier.train(training_set,training_labels)\n",
    "nb_classifier.predict(test_set)\n",
    "\n",
    "nb_classifier_test_accuracy = nb_classifier.accuracy_check(test_labels)\n",
    "print(\"The accuracy from the test set is {:.2f}%, and that is given by the pca number of: {}.\".format(nb_classifier.accuracy_check(test_labels),40))    "
   ]
  },
  {
   "cell_type": "markdown",
   "metadata": {},
   "source": [
    "### Running classifier on total test data (for timing reasons)"
   ]
  },
  {
   "cell_type": "code",
   "execution_count": 26,
   "metadata": {},
   "outputs": [],
   "source": [
    "start_time = tm.time()\n",
    "\n",
    "nb_classifier = NB(num_pca = 40) #Train classifier with 40 Pcas\n",
    "nb_classifier.train(training_set,training_labels)\n",
    "nb_classifier.predict(data_test)\n",
    "\n",
    "nb_time_test = tm.time() - start_time"
   ]
  },
  {
   "cell_type": "markdown",
   "metadata": {},
   "source": [
    "# Neural Network Classifier"
   ]
  },
  {
   "cell_type": "code",
   "execution_count": 4,
   "metadata": {},
   "outputs": [],
   "source": [
    "class NeuralNetwork:\n",
    "    \n",
    "    def __init__(self, activation_func = \"relu\"):\n",
    "        \n",
    "        #learning term\n",
    "        self.eta = 0.1\n",
    "\n",
    "        # regularization term\n",
    "        self.reg = 1e-2\n",
    "        \n",
    "        # Define size of first hidden-layer and second hidden layer (output layer)\n",
    "        self.size_first_layer = 15\n",
    "        self.size_output = 10\n",
    "        self.activation_func = activation_func\n",
    "\n",
    "    def random_weights(self):\n",
    "        \n",
    "        self.initial_W1 = 0.01 * np.random.randn(self.training_data.shape[1],self.size_first_layer)\n",
    "        self.initial_W2 = 0.01 * np.random.randn(self.size_first_layer,self.size_output)\n",
    "\n",
    "        return self.initial_W1,self.initial_W2 \n",
    "\n",
    "    def forward_prop(self):\n",
    "        \n",
    "        W1 = self.initial_W1\n",
    "        W2 = self.initial_W2\n",
    "        \n",
    "        first_layer = np.dot(self.training_data, W1)\n",
    "        \n",
    "        #Alternative to relu function\n",
    "        if self.activation_func == \"sigmoid\" or self.activation_func == \"Sigmoid\":\n",
    "            self.first_layer_act = self.sigmoid(first_layer)\n",
    "        else:\n",
    "            self.first_layer_act = self.relu(first_layer)# apply nonlinearity (relu)\n",
    "            \n",
    "        output = np.dot(self.first_layer_act, W2)\n",
    "\n",
    "        # softmax on the last layer\n",
    "        self.probs = self.soft_max(output)\n",
    "        \n",
    "        return self.training_data,self.first_layer_act, self.probs\n",
    "\n",
    "    def compute_loss(self, training_labels, probs):\n",
    "        correct_probs = []\n",
    "        for i in range(len(probs)):\n",
    "            correct_probs.append(probs[i][training_labels[i]])\n",
    "            \n",
    "        data_loss = np.sum(-np.log(np.array(correct_probs)/ self.n))\n",
    "        return data_loss\n",
    "\n",
    "    def back_prop(self, training_labels):\n",
    "        \n",
    "        diff_output = self.probs\n",
    "        \n",
    "        for i in range(len(diff_output)): #Remove 1 from the probability for each correct label\n",
    "            diff_output[i][training_labels[i]] -= 1\n",
    "    \n",
    "        diff_output = diff_output/self.n\n",
    "\n",
    "        # backprop\n",
    "        self.dW2 = np.dot(self.first_layer_act.T, diff_output) + self.reg * self.W2\n",
    "        \n",
    "        # first layer first_layer_act\n",
    "        diff_first_layer = np.dot(diff_output, self.W2.T)\n",
    "        \n",
    "        if self.activation_func == \"sigmoid\" or self.activation_func == \"Sigmoid\":\n",
    "            diff_first_layer = diff_first_layer * self.sigmoid_gradient(self.first_layer_act) #differentiation of the sigmoid function\n",
    "        else:\n",
    "            diff_first_layer = diff_first_layer * (self.first_layer_act > 0) #differentiation of the relu function\n",
    "        \n",
    "        \n",
    "        \n",
    "        self.dW1 = np.dot(self.training_data.T, diff_first_layer) + self.reg * self.W1\n",
    "        \n",
    "        return self.dW1, self.dW2\n",
    "\n",
    "    def weights_update(self):\n",
    "        eta = self.eta\n",
    "\n",
    "        dW1 = self.dW1\n",
    "        dW2 = self.dW2\n",
    "        # Do gradient descent step\n",
    "        self.W1 -= eta * dW1\n",
    "        self.W2 -= eta * dW2\n",
    "\n",
    "        return self.W1,self.W2\n",
    "\n",
    "    def train(self, training_data, training_labels, num_iter=5000):\n",
    "        #n is the number of rows, f is the number of features in data train\n",
    "        self.n, self.f = training_data.shape\n",
    "        \n",
    "        self.training_data = training_data\n",
    "        \n",
    "        # initialize our weights\n",
    "        self.W1, self.W2 = self.random_weights()\n",
    "        \n",
    "        # number of iterations\n",
    "        for i in range(num_iter):\n",
    "            # forward prop\n",
    "            self.training_data,self.first_layer_act, self.probs = self.forward_prop()\n",
    "\n",
    "            # calculate cost\n",
    "            cost = self.compute_loss(training_labels, self.probs)\n",
    "            \n",
    "            grads = self.back_prop(training_labels)\n",
    "\n",
    "            # update parameters\n",
    "            self.W1,self.W2 = self.weights_update()\n",
    "\n",
    "        return self.W1,self.W2\n",
    "    \n",
    "    def accuracy(self, test_set, test_labels):\n",
    "        \n",
    "        first_layer = np.dot(test_set, self.W1)\n",
    "        \n",
    "        \n",
    "        if self.activation_func == \"sigmoid\" or self.activation_func == \"Sigmoid\":\n",
    "            # sigmoid function\n",
    "            first_layer_act = self.sigmoid(first_layer)\n",
    "        else:\n",
    "            first_layer_act = self.relu(first_layer) # relu function\n",
    "        \n",
    "        \n",
    "        output = np.dot(first_layer_act, self.W2)\n",
    "\n",
    "        # softmax on the last layer\n",
    "        results = self.soft_max(output)\n",
    "\n",
    "        self.y_preds = []\n",
    "\n",
    "        for row in results:\n",
    "            self.y_preds.append(np.argmax(row))\n",
    "        \n",
    "        correct_test = 0\n",
    "        incorrect_test = 0\n",
    "        \n",
    "        for i in range(len(test_labels)):\n",
    "            if self.y_preds[i]==test_labels[i]:\n",
    "                correct_test += 1\n",
    "            else:\n",
    "                incorrect_test += 1\n",
    "                \n",
    "        return (correct_test/(correct_test+incorrect_test))*100\n",
    "    \n",
    "    ##Function definitions\n",
    "    \n",
    "    def soft_max(self,x): #Calculate the class probabilities\n",
    "        top = np.exp(x)\n",
    "        bot = np.sum(np.exp(x), axis = 1, keepdims = True) #divid exp by the sum of the exponent of the row\n",
    "        return top/bot\n",
    "                           \n",
    "    def relu(self,x): \n",
    "        return np.maximum(0,x)\n",
    "                           \n",
    "    def sigmoid(self,z):  \n",
    "        return 1 / (1 + np.exp(-z))\n",
    "    \n",
    "    def sigmoid_gradient(self,z):  \n",
    "        return self.sigmoid(z)*(1 - self.sigmoid(z))                      \n"
   ]
  },
  {
   "cell_type": "markdown",
   "metadata": {},
   "source": [
    "Training the neural network is very slow so the code is commented out"
   ]
  },
  {
   "cell_type": "code",
   "execution_count": 7,
   "metadata": {},
   "outputs": [],
   "source": [
    "#start_time = tm.time()\n",
    "\n",
    "#neural_network = NeuralNetwork()\n",
    "#neural_network.train(training_set,training_labels)\n",
    "\n",
    "#neural_network_training_time = tm.time() - start_time"
   ]
  },
  {
   "cell_type": "code",
   "execution_count": 9,
   "metadata": {},
   "outputs": [
    {
     "name": "stdout",
     "output_type": "stream",
     "text": [
      "The accuracy of the Neural Network results on the validation set is: 82.85%.\n"
     ]
    }
   ],
   "source": [
    "#start_time = tm.time()\n",
    "#validation_set_accuracy_NW = neural_network.accuracy(validation_set,validation_labels)\n",
    "## Actual predicted labels can be gotten from neural_network.y_preds\n",
    "\n",
    "#print(\"The accuracy of the Neural Network results on the validation set is: {:.2f}%.\".format(validation_set_accuracy_NW))\n",
    "#nn_validation_time = (tm.time() - start_time) + neural_network_training_time"
   ]
  },
  {
   "cell_type": "code",
   "execution_count": 10,
   "metadata": {},
   "outputs": [
    {
     "name": "stdout",
     "output_type": "stream",
     "text": [
      "The accuracy of the Neural Network results on the test set is: 82.50%.\n"
     ]
    }
   ],
   "source": [
    "#start_time = tm.time()\n",
    "#test_set_accuracy_NW = neural_network.accuracy(test_set,test_labels)\n",
    "\n",
    "\n",
    "#print(\"The accuracy of the Neural Network results on the test set is: {:.2f}%.\".format(test_set_accuracy_NW))\n",
    "#nn_test_time = (tm.time() - start_time) + neural_network_training_time"
   ]
  },
  {
   "cell_type": "markdown",
   "metadata": {},
   "source": [
    "## Comparisons of accuracy between different models"
   ]
  },
  {
   "cell_type": "code",
   "execution_count": 11,
   "metadata": {},
   "outputs": [
    {
     "name": "stdout",
     "output_type": "stream",
     "text": [
      "              Accuracy    Knn    NB  Neural Network\n",
      "0  Validation Accuracy  85.88  71.5           82.85\n",
      "1        Test Accuracy  83.30  72.0           82.50\n"
     ]
    }
   ],
   "source": [
    "#model_results = {\"Accuracy\":[\"Validation Accuracy\", \"Test Accuracy\"],\n",
    "#                 \"Knn\":[round(validation_accuracy,2),test_accuracy],\n",
    "#                 \"NB\":[nb_classifier_validation_accuracy,nb_classifier_test_accuracy],\n",
    "#                \"Neural Network\":[round(validation_set_accuracy_NW,2),round(test_set_accuracy_NW,2)]}\n",
    "\n",
    "\n",
    "#model_comparisons = pd.DataFrame(data = model_results)\n",
    "#print(model_comparisons)\n"
   ]
  },
  {
   "cell_type": "code",
   "execution_count": 28,
   "metadata": {},
   "outputs": [
    {
     "data": {
      "image/png": "[encoded data removed]",
      "text/plain": [
       "<Figure size 432x288 with 1 Axes>"
      ]
     },
     "metadata": {
      "needs_background": "light"
     },
     "output_type": "display_data"
    }
   ],
   "source": [
    "#ax = model_comparisons.plot.bar(x = \"Accuracy\",rot = 0)\n",
    "#ax.set_title(\"Comparison of different Models\")\n",
    "#ax.set_ylabel('Accuracy (%)')\n",
    "#ax.set_xlabel(\" \")\n",
    "\n",
    "#plt.show()\n"
   ]
  },
  {
   "cell_type": "markdown",
   "metadata": {},
   "source": [
    "## Time graphs"
   ]
  },
  {
   "cell_type": "code",
   "execution_count": 30,
   "metadata": {},
   "outputs": [
    {
     "name": "stdout",
     "output_type": "stream",
     "text": [
      "              Time         Knn        NB  Neural Network\n",
      "0  Validation Time  136.128848  4.666639      830.608899\n",
      "1        Test Time  113.843621  4.149883      830.570130\n"
     ]
    },
    {
     "data": {
      "image/png": "[encoded data removed]",
      "text/plain": [
       "<Figure size 432x288 with 1 Axes>"
      ]
     },
     "metadata": {
      "needs_background": "light"
     },
     "output_type": "display_data"
    }
   ],
   "source": [
    "#time_results = {\"Time\":[\"Validation Time\", \"Test Time\"],\n",
    "#                \"Knn\":[knn_time_val,knn_time_test],\n",
    "#                \"NB\":[nb_time_val,nb_time_test],\n",
    "#               \"Neural Network\":[nn_validation_time,nn_test_time]}\n",
    "\n",
    "#model_times = pd.DataFrame(data = time_results)\n",
    "#print(model_times)\n",
    "\n",
    "\n",
    "#ax = model_times.plot.bar(x = \"Time\",rot = 0)\n",
    "#ax.set_title(\"Comparison of different Models Computation Time\")\n",
    "#ax.set_ylabel('Time (s)')\n",
    "#ax.set_xlabel(\" \")\n",
    "\n",
    "#plt.show()\n"
   ]
  },
  {
   "cell_type": "markdown",
   "metadata": {},
   "source": [
    "### Confusion matrix of Knn classifier using 2000 test rows"
   ]
  },
  {
   "cell_type": "code",
   "execution_count": 133,
   "metadata": {},
   "outputs": [],
   "source": [
    "testing_set = data_test[0:2000,:]\n",
    "testing_labels = label_test\n",
    "\n",
    "knn_classifier = Knn()\n",
    "knn_classifier.train(data_train,label_train)\n",
    "test_predictions = knn_classifier.predict(testing_set)\n"
   ]
  },
  {
   "cell_type": "code",
   "execution_count": 134,
   "metadata": {},
   "outputs": [
    {
     "name": "stdout",
     "output_type": "stream",
     "text": [
      "2000\n",
      "2000\n"
     ]
    }
   ],
   "source": [
    "print(len(test_predictions))\n",
    "print(len(testing_labels))"
   ]
  },
  {
   "cell_type": "code",
   "execution_count": 135,
   "metadata": {
    "scrolled": true
   },
   "outputs": [
    {
     "name": "stdout",
     "output_type": "stream",
     "text": [
      "The Confusion Matrix for the Knn Classifier on the 2000 test labels is:\n"
     ]
    },
    {
     "data": {
      "text/html": [
       "<div>\n",
       "<style scoped>\n",
       "    .dataframe tbody tr th:only-of-type {\n",
       "        vertical-align: middle;\n",
       "    }\n",
       "\n",
       "    .dataframe tbody tr th {\n",
       "        vertical-align: top;\n",
       "    }\n",
       "\n",
       "    .dataframe thead th {\n",
       "        text-align: right;\n",
       "    }\n",
       "</style>\n",
       "<table border=\"1\" class=\"dataframe\">\n",
       "  <thead>\n",
       "    <tr style=\"text-align: right;\">\n",
       "      <th>Predicted Class</th>\n",
       "      <th>0</th>\n",
       "      <th>1</th>\n",
       "      <th>2</th>\n",
       "      <th>3</th>\n",
       "      <th>4</th>\n",
       "      <th>5</th>\n",
       "      <th>6</th>\n",
       "      <th>7</th>\n",
       "      <th>8</th>\n",
       "      <th>9</th>\n",
       "      <th>Percentage correct</th>\n",
       "    </tr>\n",
       "    <tr>\n",
       "      <th>Actual Class</th>\n",
       "      <th></th>\n",
       "      <th></th>\n",
       "      <th></th>\n",
       "      <th></th>\n",
       "      <th></th>\n",
       "      <th></th>\n",
       "      <th></th>\n",
       "      <th></th>\n",
       "      <th></th>\n",
       "      <th></th>\n",
       "      <th></th>\n",
       "    </tr>\n",
       "  </thead>\n",
       "  <tbody>\n",
       "    <tr>\n",
       "      <th>0</th>\n",
       "      <td>157</td>\n",
       "      <td>0</td>\n",
       "      <td>2</td>\n",
       "      <td>4</td>\n",
       "      <td>2</td>\n",
       "      <td>1</td>\n",
       "      <td>24</td>\n",
       "      <td>0</td>\n",
       "      <td>2</td>\n",
       "      <td>0</td>\n",
       "      <td>82.0</td>\n",
       "    </tr>\n",
       "    <tr>\n",
       "      <th>1</th>\n",
       "      <td>1</td>\n",
       "      <td>183</td>\n",
       "      <td>0</td>\n",
       "      <td>0</td>\n",
       "      <td>0</td>\n",
       "      <td>0</td>\n",
       "      <td>0</td>\n",
       "      <td>0</td>\n",
       "      <td>0</td>\n",
       "      <td>0</td>\n",
       "      <td>99.0</td>\n",
       "    </tr>\n",
       "    <tr>\n",
       "      <th>2</th>\n",
       "      <td>6</td>\n",
       "      <td>0</td>\n",
       "      <td>151</td>\n",
       "      <td>5</td>\n",
       "      <td>27</td>\n",
       "      <td>0</td>\n",
       "      <td>17</td>\n",
       "      <td>0</td>\n",
       "      <td>0</td>\n",
       "      <td>0</td>\n",
       "      <td>73.0</td>\n",
       "    </tr>\n",
       "    <tr>\n",
       "      <th>3</th>\n",
       "      <td>7</td>\n",
       "      <td>0</td>\n",
       "      <td>3</td>\n",
       "      <td>172</td>\n",
       "      <td>12</td>\n",
       "      <td>0</td>\n",
       "      <td>13</td>\n",
       "      <td>0</td>\n",
       "      <td>0</td>\n",
       "      <td>0</td>\n",
       "      <td>83.0</td>\n",
       "    </tr>\n",
       "    <tr>\n",
       "      <th>4</th>\n",
       "      <td>1</td>\n",
       "      <td>0</td>\n",
       "      <td>23</td>\n",
       "      <td>11</td>\n",
       "      <td>162</td>\n",
       "      <td>0</td>\n",
       "      <td>23</td>\n",
       "      <td>0</td>\n",
       "      <td>0</td>\n",
       "      <td>0</td>\n",
       "      <td>74.0</td>\n",
       "    </tr>\n",
       "    <tr>\n",
       "      <th>5</th>\n",
       "      <td>0</td>\n",
       "      <td>0</td>\n",
       "      <td>0</td>\n",
       "      <td>0</td>\n",
       "      <td>0</td>\n",
       "      <td>168</td>\n",
       "      <td>0</td>\n",
       "      <td>15</td>\n",
       "      <td>1</td>\n",
       "      <td>6</td>\n",
       "      <td>88.0</td>\n",
       "    </tr>\n",
       "    <tr>\n",
       "      <th>6</th>\n",
       "      <td>26</td>\n",
       "      <td>0</td>\n",
       "      <td>16</td>\n",
       "      <td>5</td>\n",
       "      <td>16</td>\n",
       "      <td>0</td>\n",
       "      <td>127</td>\n",
       "      <td>0</td>\n",
       "      <td>0</td>\n",
       "      <td>0</td>\n",
       "      <td>67.0</td>\n",
       "    </tr>\n",
       "    <tr>\n",
       "      <th>7</th>\n",
       "      <td>0</td>\n",
       "      <td>0</td>\n",
       "      <td>0</td>\n",
       "      <td>0</td>\n",
       "      <td>0</td>\n",
       "      <td>2</td>\n",
       "      <td>0</td>\n",
       "      <td>177</td>\n",
       "      <td>0</td>\n",
       "      <td>13</td>\n",
       "      <td>92.0</td>\n",
       "    </tr>\n",
       "    <tr>\n",
       "      <th>8</th>\n",
       "      <td>2</td>\n",
       "      <td>0</td>\n",
       "      <td>1</td>\n",
       "      <td>2</td>\n",
       "      <td>2</td>\n",
       "      <td>1</td>\n",
       "      <td>6</td>\n",
       "      <td>1</td>\n",
       "      <td>210</td>\n",
       "      <td>2</td>\n",
       "      <td>93.0</td>\n",
       "    </tr>\n",
       "    <tr>\n",
       "      <th>9</th>\n",
       "      <td>0</td>\n",
       "      <td>0</td>\n",
       "      <td>0</td>\n",
       "      <td>0</td>\n",
       "      <td>0</td>\n",
       "      <td>0</td>\n",
       "      <td>0</td>\n",
       "      <td>7</td>\n",
       "      <td>0</td>\n",
       "      <td>185</td>\n",
       "      <td>96.0</td>\n",
       "    </tr>\n",
       "  </tbody>\n",
       "</table>\n",
       "</div>"
      ],
      "text/plain": [
       "Predicted Class    0    1    2    3    4    5    6    7    8    9  \\\n",
       "Actual Class                                                        \n",
       "0                157    0    2    4    2    1   24    0    2    0   \n",
       "1                  1  183    0    0    0    0    0    0    0    0   \n",
       "2                  6    0  151    5   27    0   17    0    0    0   \n",
       "3                  7    0    3  172   12    0   13    0    0    0   \n",
       "4                  1    0   23   11  162    0   23    0    0    0   \n",
       "5                  0    0    0    0    0  168    0   15    1    6   \n",
       "6                 26    0   16    5   16    0  127    0    0    0   \n",
       "7                  0    0    0    0    0    2    0  177    0   13   \n",
       "8                  2    0    1    2    2    1    6    1  210    2   \n",
       "9                  0    0    0    0    0    0    0    7    0  185   \n",
       "\n",
       "Predicted Class  Percentage correct  \n",
       "Actual Class                         \n",
       "0                              82.0  \n",
       "1                              99.0  \n",
       "2                              73.0  \n",
       "3                              83.0  \n",
       "4                              74.0  \n",
       "5                              88.0  \n",
       "6                              67.0  \n",
       "7                              92.0  \n",
       "8                              93.0  \n",
       "9                              96.0  "
      ]
     },
     "execution_count": 135,
     "metadata": {},
     "output_type": "execute_result"
    }
   ],
   "source": [
    "def confusion_matrix(preds, actuals): #Create confusion matrix\n",
    "    preds = pd.Series(preds)\n",
    "    actuals = pd.Series(actuals)\n",
    "    cm = pd.crosstab(actuals,preds, rownames = [\"Actual Class\"], colnames = [\"Predicted Class\"])\n",
    "    return cm\n",
    "\n",
    "\n",
    "knn_conf = confusion_matrix(test_predictions, testing_labels)    \n",
    "\n",
    "print(\"The Confusion Matrix for the Knn Classifier on the 2000 test labels is:\")\n",
    "\n",
    "percentage_correct_per_class = [] #Calculate the percentage of correct labels per class\n",
    "\n",
    "for i in range(len(knn_conf)):\n",
    "    percentage_correct_per_class.append((round((knn_conf.iloc[i][i]/knn_conf.sum(axis = 1)[i])*100.0)))\n",
    "\n",
    "knn_conf[\"Percentage correct\"] = percentage_correct_per_class\n",
    "knn_conf\n"
   ]
  },
  {
   "cell_type": "markdown",
   "metadata": {},
   "source": [
    "The K-Nearest Neighbour model was the most accurate and was used for the final predictions."
   ]
  }
 ],
 "metadata": {
  "anaconda-cloud": {},
  "kernelspec": {
   "display_name": "Python 3",
   "language": "python",
   "name": "python3"
  },
  "language_info": {
   "codemirror_mode": {
    "name": "ipython",
    "version": 3
   },
   "file_extension": ".py",
   "mimetype": "text/x-python",
   "name": "python",
   "nbconvert_exporter": "python",
   "pygments_lexer": "ipython3",
   "version": "3.8.3"
  }
 },
 "nbformat": 4,
 "nbformat_minor": 2
}
